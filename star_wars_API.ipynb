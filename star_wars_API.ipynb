{
 "cells": [
  {
   "cell_type": "code",
   "execution_count": 41,
   "id": "a5a8fb05",
   "metadata": {},
   "outputs": [
    {
     "name": "stdout",
     "output_type": "stream",
     "text": [
      "<Response [200]>\n",
      "       name rotation_period orbital_period diameter    climate     gravity  \\\n",
      "0  Alderaan              24            364    12500  temperate  1 standard   \n",
      "\n",
      "                 terrain surface_water  population  \\\n",
      "0  grasslands, mountains            40  2000000000   \n",
      "\n",
      "                                           residents  \\\n",
      "0  [https://swapi.dev/api/people/5/, https://swap...   \n",
      "\n",
      "                                               films  \\\n",
      "0  [https://swapi.dev/api/films/1/, https://swapi...   \n",
      "\n",
      "                       created                       edited  \\\n",
      "0  2014-12-10T11:35:48.479000Z  2014-12-20T20:58:18.420000Z   \n",
      "\n",
      "                                url  \n",
      "0  https://swapi.dev/api/planets/2/  \n"
     ]
    }
   ],
   "source": [
    "import requests\n",
    "import pandas as pd\n",
    "from pandas import json_normalize\n",
    "\n",
    "def fetch_star_wars_data(nmb):\n",
    "    api_url = f\"https://swapi.dev/api/planets/{nmb}\"\n",
    "    response = requests.get(api_url)\n",
    "    \n",
    "    # Check if the request was successful (status code 200)\n",
    "    if response.status_code == 200:\n",
    "        print(response)\n",
    "        # Check if 'results' key exists in the data\n",
    "        return response.json()\n",
    "    else:\n",
    "        print(f\"Error: Failed to fetch data. Status Code: {response.status_code}\")\n",
    "        return None\n",
    "\n",
    "if __name__ == \"__main__\":\n",
    "    star_wars_data = fetch_star_wars_data(\"2\")\n",
    "    \n",
    "    # Check if star_wars_data is not None before proceeding\n",
    "    if star_wars_data:\n",
    "        star_wars_df = json_normalize(star_wars_data)\n",
    "\n",
    "        print(star_wars_df)\n"
   ]
  }
 ],
 "metadata": {
  "kernelspec": {
   "display_name": "Python 3 (ipykernel)",
   "language": "python",
   "name": "python3"
  },
  "language_info": {
   "codemirror_mode": {
    "name": "ipython",
    "version": 3
   },
   "file_extension": ".py",
   "mimetype": "text/x-python",
   "name": "python",
   "nbconvert_exporter": "python",
   "pygments_lexer": "ipython3",
   "version": "3.10.6"
  },
  "toc": {
   "base_numbering": 1,
   "nav_menu": {},
   "number_sections": true,
   "sideBar": true,
   "skip_h1_title": false,
   "title_cell": "Table of Contents",
   "title_sidebar": "Contents",
   "toc_cell": false,
   "toc_position": {},
   "toc_section_display": true,
   "toc_window_display": false
  }
 },
 "nbformat": 4,
 "nbformat_minor": 5
}
