{
 "cells": [
  {
   "cell_type": "code",
   "execution_count": 5,
   "id": "0dd3973c",
   "metadata": {},
   "outputs": [],
   "source": [
    "import swapi\n",
    "import pandas as pd\n",
    "from pandas import json_normalize"
   ]
  },
  {
   "cell_type": "code",
   "execution_count": null,
   "id": "afc33131",
   "metadata": {},
   "outputs": [],
   "source": [
    "if name == \"main\":\n",
    "    star_wars_data = fetch_star_wars_data(\"2\")\n",
    "    # Check if star_wars_data is not None before proceeding\n",
    "    if star_wars_data:\n",
    "        star_wars_df = json_normalize(star_wars_data)\n",
    "        print(star_wars_df)"
   ]
  },
  {
   "cell_type": "code",
   "execution_count": null,
   "id": "ed43f1cf",
   "metadata": {},
   "outputs": [],
   "source": [
    "if planetdata:\n",
    "        # Creating a DataFrame from the extracted planet data\n",
    "        planetdf = pd.DataFrame(planetdata)\n",
    "        # Sorting the DataFrame by planet size in descending order\n",
    "        sortedplanet_df = planet_df.sort_values(by='Size', ascending=False)\n",
    "\n",
    "        print(sorted_planet_df)\n",
    "\n",
    "if __name == \"__main\":\n",
    "    display_planet_dataframe()"
   ]
  },
  {
   "cell_type": "code",
   "execution_count": null,
   "id": "5701e1f3",
   "metadata": {},
   "outputs": [],
   "source": [
    "\n",
    "url = 'https://swapi.dev/api/starships/'\n",
    "names = swapi.get_starships(url)\n",
    "starships_df = swapi.create_starships_df(names)\n",
    "print(starships_df)\n",
    "\n",
    "starship_info = swapi.get_starship('15')\n",
    "if starship_info:\n",
    "    df_starship = json_normalize(starship_info)\n",
    "    print(\"Vaisseau de Star Wars :\")\n",
    "    print(starship_info)\n"
   ]
  },
  {
   "cell_type": "code",
   "execution_count": null,
   "id": "dc1e56e6",
   "metadata": {},
   "outputs": [],
   "source": [
    "\n",
    "#affiche le dataframe de tout les noms des personnages\n",
    "url = 'https://swapi.dev/api/people/'\n",
    "names = get_characters(url)\n",
    "names_df = create_names_df(names)\n",
    "print(names_df)\n",
    "\n",
    "#affiche le dataframe du personnage dont j'ai choisis l'identifiant\n",
    "response_data = get_character(\"4\")\n",
    "if response_data:\n",
    "    df_character = json_normalize(response_data)\n",
    "    print(\"Personnage Star Wars :\")\n",
    "    print(df_character)\n",
    "else:\n",
    "    print(\"Erreur lors de la récupération des informations.\")\n"
   ]
  }
 ],
 "metadata": {
  "kernelspec": {
   "display_name": "Python 3 (ipykernel)",
   "language": "python",
   "name": "python3"
  },
  "language_info": {
   "codemirror_mode": {
    "name": "ipython",
    "version": 3
   },
   "file_extension": ".py",
   "mimetype": "text/x-python",
   "name": "python",
   "nbconvert_exporter": "python",
   "pygments_lexer": "ipython3",
   "version": "3.10.6"
  },
  "toc": {
   "base_numbering": 1,
   "nav_menu": {},
   "number_sections": true,
   "sideBar": true,
   "skip_h1_title": false,
   "title_cell": "Table of Contents",
   "title_sidebar": "Contents",
   "toc_cell": false,
   "toc_position": {},
   "toc_section_display": true,
   "toc_window_display": false
  }
 },
 "nbformat": 4,
 "nbformat_minor": 5
}
