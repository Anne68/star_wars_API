{
 "cells": [
  {
   "cell_type": "code",
   "execution_count": 1,
   "id": "0dd3973c",
   "metadata": {},
   "outputs": [],
   "source": [
    "import swapi\n",
    "import pandas as pd\n",
    "from pandas import json_normalize"
   ]
  },
  {
   "cell_type": "code",
   "execution_count": 2,
   "id": "afc33131",
   "metadata": {},
   "outputs": [
    {
     "name": "stdout",
     "output_type": "stream",
     "text": [
      "       name rotation_period orbital_period diameter    climate     gravity  \\\n",
      "0  Alderaan              24            364    12500  temperate  1 standard   \n",
      "\n",
      "                 terrain surface_water  population  \\\n",
      "0  grasslands, mountains            40  2000000000   \n",
      "\n",
      "                                           residents  \\\n",
      "0  [https://swapi.dev/api/people/5/, https://swap...   \n",
      "\n",
      "                                               films  \\\n",
      "0  [https://swapi.dev/api/films/1/, https://swapi...   \n",
      "\n",
      "                       created                       edited  \\\n",
      "0  2014-12-10T11:35:48.479000Z  2014-12-20T20:58:18.420000Z   \n",
      "\n",
      "                                url  \n",
      "0  https://swapi.dev/api/planets/2/  \n"
     ]
    }
   ],
   "source": [
    "star_wars_data = swapi.fetch_star_wars_data(\"2\")\n",
    "if star_wars_data:\n",
    "    star_wars_df = json_normalize(star_wars_data)\n",
    "    print(star_wars_df)"
   ]
  },
  {
   "cell_type": "code",
   "execution_count": 3,
   "id": "ed43f1cf",
   "metadata": {},
   "outputs": [
    {
     "name": "stdout",
     "output_type": "stream",
     "text": [
      "              name  diameter\n",
      "5           Bespin  118000.0\n",
      "9           Kamino   19720.0\n",
      "34       Malastare   18880.0\n",
      "43     Glee Anselm   15600.0\n",
      "18       Saleucami   14920.0\n",
      "38         Vulpter   14900.0\n",
      "26     Ord Mantell   14050.0\n",
      "58           Kalee   13850.0\n",
      "56      Muunilinst   13800.0\n",
      "31       Chandrila   13500.0\n",
      "20          Eriadu   13490.0\n",
      "48           Dorin   13400.0\n",
      "11          Utapau   12900.0\n",
      "32         Sullust   12780.0\n",
      "13        Kashyyyk   12765.0\n",
      "1         Alderaan   12500.0\n",
      "8        Coruscant   12240.0\n",
      "40            Tund   12190.0\n",
      "23       Nal Hutta   12150.0\n",
      "7            Naboo   12120.0\n",
      "10        Geonosis   11370.0\n",
      "30        Mon Cala   11030.0\n",
      "21        Corellia   11000.0\n",
      "36          Ryloth   10600.0\n",
      "35        Dathomir   10480.0\n",
      "0         Tatooine   10465.0\n",
      "2         Yavin IV   10200.0\n",
      "41      Haruun Kal   10120.0\n",
      "15         Mygeeto   10088.0\n",
      "24       Dantooine    9830.0\n",
      "16         Felucia    9100.0\n",
      "4          Dagobah    8900.0\n",
      "33        Toydaria    7900.0\n",
      "22           Rodia    7549.0\n",
      "3             Hoth    7200.0\n",
      "25      Bestine IV    6400.0\n",
      "6            Endor    4900.0\n",
      "12        Mustafar    4200.0\n",
      "19         Stewjon       0.0\n",
      "28       Trandosha       0.0\n",
      "17  Cato Neimoidia       0.0\n",
      "27         unknown       0.0\n",
      "29         Socorro       0.0\n",
      "14     Polis Massa       0.0\n",
      "51         Serenno      -1.0\n",
      "57           Shili      -1.0\n",
      "55           Skako      -1.0\n",
      "54            Ojom      -1.0\n",
      "53           Zolan      -1.0\n",
      "52    Concord Dawn      -1.0\n",
      "37     Aleen Minor      -1.0\n",
      "50          Mirial      -1.0\n",
      "49        Champala      -1.0\n",
      "47         Quermia      -1.0\n",
      "46         Iktotch      -1.0\n",
      "45         Tholoth      -1.0\n",
      "44        Iridonia      -1.0\n",
      "42           Cerea      -1.0\n",
      "39         Troiken      -1.0\n",
      "59          Umbara      -1.0\n"
     ]
    }
   ],
   "source": [
    "swapi.display_planet_dataframe()"
   ]
  },
  {
   "cell_type": "code",
   "execution_count": 3,
   "id": "5701e1f3",
   "metadata": {},
   "outputs": [
    {
     "name": "stdout",
     "output_type": "stream",
     "text": [
      "                             Name\n",
      "0                   CR90 corvette\n",
      "1                  Star Destroyer\n",
      "2    Sentinel-class landing craft\n",
      "3                      Death Star\n",
      "4               Millennium Falcon\n",
      "5                          Y-wing\n",
      "6                          X-wing\n",
      "7                 TIE Advanced x1\n",
      "8                        Executor\n",
      "9                 Rebel transport\n",
      "10                        Slave 1\n",
      "11               Imperial shuttle\n",
      "12  EF76 Nebulon-B escort frigate\n",
      "13               Calamari Cruiser\n",
      "14                         A-wing\n",
      "15                         B-wing\n",
      "16               Republic Cruiser\n",
      "17             Droid control ship\n",
      "18                  Naboo fighter\n",
      "19           Naboo Royal Starship\n",
      "20                       Scimitar\n",
      "21        J-type diplomatic barge\n",
      "22       AA-9 Coruscant freighter\n",
      "23               Jedi starfighter\n",
      "24            H-type Nubian yacht\n",
      "25          Republic Assault ship\n",
      "26                   Solar Sailer\n",
      "27       Trade Federation cruiser\n",
      "28       Theta-class T-2c shuttle\n",
      "29        Republic attack cruiser\n",
      "30               Naboo star skiff\n",
      "31               Jedi Interceptor\n",
      "32                        arc-170\n",
      "33            Banking clan frigte\n",
      "34       Belbullab-22 starfighter\n",
      "35                         V-wing\n",
      "Vaisseau de Star Wars :\n",
      "{'name': 'Executor', 'model': 'Executor-class star dreadnought', 'manufacturer': 'Kuat Drive Yards, Fondor Shipyards', 'cost_in_credits': '1143350000', 'length': '19000', 'max_atmosphering_speed': 'n/a', 'crew': '279,144', 'passengers': '38000', 'cargo_capacity': '250000000', 'consumables': '6 years', 'hyperdrive_rating': '2.0', 'MGLT': '40', 'starship_class': 'Star dreadnought', 'pilots': [], 'films': ['https://swapi.dev/api/films/2/', 'https://swapi.dev/api/films/3/'], 'created': '2014-12-15T12:31:42.547000Z', 'edited': '2014-12-20T21:23:49.893000Z', 'url': 'https://swapi.dev/api/starships/15/'}\n"
     ]
    }
   ],
   "source": [
    "url = 'https://swapi.dev/api/starships/'\n",
    "names = swapi.get_starships(url)\n",
    "starships_df = swapi.create_starships_df(names)\n",
    "print(starships_df)\n",
    "\n",
    "starship_info = swapi.get_starship('15')\n",
    "if starship_info:\n",
    "    df_starship = json_normalize(starship_info)\n",
    "    print(\"Vaisseau de Star Wars :\")\n",
    "    print(starship_info)\n"
   ]
  },
  {
   "cell_type": "code",
   "execution_count": 4,
   "id": "dc1e56e6",
   "metadata": {},
   "outputs": [
    {
     "name": "stdout",
     "output_type": "stream",
     "text": [
      "               Name\n",
      "0    Luke Skywalker\n",
      "1             C-3PO\n",
      "2             R2-D2\n",
      "3       Darth Vader\n",
      "4       Leia Organa\n",
      "..              ...\n",
      "77         Grievous\n",
      "78          Tarfful\n",
      "79  Raymus Antilles\n",
      "80        Sly Moore\n",
      "81       Tion Medon\n",
      "\n",
      "[82 rows x 1 columns]\n",
      "<Response [200]>\n",
      "Personnage Star Wars :\n",
      "          name height mass hair_color skin_color eye_color birth_year gender  \\\n",
      "0  Darth Vader    202  136       none      white    yellow    41.9BBY   male   \n",
      "\n",
      "                          homeworld  \\\n",
      "0  https://swapi.dev/api/planets/1/   \n",
      "\n",
      "                                               films species vehicles  \\\n",
      "0  [https://swapi.dev/api/films/1/, https://swapi...      []       []   \n",
      "\n",
      "                               starships                      created  \\\n",
      "0  [https://swapi.dev/api/starships/13/]  2014-12-10T15:18:20.704000Z   \n",
      "\n",
      "                        edited                              url  \n",
      "0  2014-12-20T21:17:50.313000Z  https://swapi.dev/api/people/4/  \n"
     ]
    }
   ],
   "source": [
    "#affiche le dataframe de tout les noms des personnages\n",
    "url = 'https://swapi.dev/api/people/'\n",
    "names = swapi.get_characters(url)\n",
    "names_df = swapi.create_names_df(names)\n",
    "print(names_df)\n",
    "\n",
    "#affiche le dataframe du personnage dont j'ai choisis l'identifiant\n",
    "response_data = swapi.get_character(\"4\")\n",
    "if response_data:\n",
    "    df_character = json_normalize(response_data)\n",
    "    print(\"Personnage Star Wars :\")\n",
    "    print(df_character)\n",
    "else:\n",
    "    print(\"Erreur lors de la récupération des informations.\")\n"
   ]
  },
  {
   "cell_type": "code",
   "execution_count": 24,
   "id": "b4fb5885",
   "metadata": {},
   "outputs": [
    {
     "name": "stdout",
     "output_type": "stream",
     "text": [
      "   count                                    next previous  \\\n",
      "0     39  https://swapi.dev/api/vehicles/?page=2     None   \n",
      "1     39  https://swapi.dev/api/vehicles/?page=2     None   \n",
      "2     39  https://swapi.dev/api/vehicles/?page=2     None   \n",
      "3     39  https://swapi.dev/api/vehicles/?page=2     None   \n",
      "4     39  https://swapi.dev/api/vehicles/?page=2     None   \n",
      "5     39  https://swapi.dev/api/vehicles/?page=2     None   \n",
      "6     39  https://swapi.dev/api/vehicles/?page=2     None   \n",
      "7     39  https://swapi.dev/api/vehicles/?page=2     None   \n",
      "8     39  https://swapi.dev/api/vehicles/?page=2     None   \n",
      "9     39  https://swapi.dev/api/vehicles/?page=2     None   \n",
      "\n",
      "                                             results  \n",
      "0  {'name': 'Sand Crawler', 'model': 'Digger Craw...  \n",
      "1  {'name': 'T-16 skyhopper', 'model': 'T-16 skyh...  \n",
      "2  {'name': 'X-34 landspeeder', 'model': 'X-34 la...  \n",
      "3  {'name': 'TIE/LN starfighter', 'model': 'Twin ...  \n",
      "4  {'name': 'Snowspeeder', 'model': 't-47 airspee...  \n",
      "5  {'name': 'TIE bomber', 'model': 'TIE/sa bomber...  \n",
      "6  {'name': 'AT-AT', 'model': 'All Terrain Armore...  \n",
      "7  {'name': 'AT-ST', 'model': 'All Terrain Scout ...  \n",
      "8  {'name': 'Storm IV Twin-Pod cloud car', 'model...  \n",
      "9  {'name': 'Sail barge', 'model': 'Modified Luxu...  \n"
     ]
    }
   ],
   "source": [
    "# Appeler la fonction en lui passant l'URL de l'API\n",
    "url = \"https://swapi.dev/api/vehicles/\"\n",
    "response_data = swapi.interroger_api(url)\n",
    "\n",
    "if response_data is not None:\n",
    "    # Créer un DataFrame à partir des données\n",
    "    df_vehicles = pd.DataFrame(response_data)\n",
    "    print(df_vehicles)\n",
    "else:\n",
    "    print(\"Pas de données à afficher.\")\n"
   ]
  }
 ],
 "metadata": {
  "kernelspec": {
   "display_name": "Python 3 (ipykernel)",
   "language": "python",
   "name": "python3"
  },
  "language_info": {
   "codemirror_mode": {
    "name": "ipython",
    "version": 3
   },
   "file_extension": ".py",
   "mimetype": "text/x-python",
   "name": "python",
   "nbconvert_exporter": "python",
   "pygments_lexer": "ipython3",
   "version": "3.10.6"
  },
  "toc": {
   "base_numbering": 1,
   "nav_menu": {},
   "number_sections": true,
   "sideBar": true,
   "skip_h1_title": false,
   "title_cell": "Table of Contents",
   "title_sidebar": "Contents",
   "toc_cell": false,
   "toc_position": {},
   "toc_section_display": true,
   "toc_window_display": false
  }
 },
 "nbformat": 4,
 "nbformat_minor": 5
}
