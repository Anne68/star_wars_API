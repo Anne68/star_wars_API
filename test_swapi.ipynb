{
 "cells": [
  {
   "cell_type": "code",
   "execution_count": 5,
   "id": "0dd3973c",
   "metadata": {},
   "outputs": [],
   "source": [
    "import swapi\n",
    "import pandas as pd\n",
    "from pandas import json_normalize"
   ]
  },
  {
   "cell_type": "code",
   "execution_count": 6,
   "id": "5701e1f3",
   "metadata": {},
   "outputs": [
    {
     "name": "stdout",
     "output_type": "stream",
     "text": [
      "                             Name\n",
      "0                   CR90 corvette\n",
      "1                  Star Destroyer\n",
      "2    Sentinel-class landing craft\n",
      "3                      Death Star\n",
      "4               Millennium Falcon\n",
      "5                          Y-wing\n",
      "6                          X-wing\n",
      "7                 TIE Advanced x1\n",
      "8                        Executor\n",
      "9                 Rebel transport\n",
      "10                        Slave 1\n",
      "11               Imperial shuttle\n",
      "12  EF76 Nebulon-B escort frigate\n",
      "13               Calamari Cruiser\n",
      "14                         A-wing\n",
      "15                         B-wing\n",
      "16               Republic Cruiser\n",
      "17             Droid control ship\n",
      "18                  Naboo fighter\n",
      "19           Naboo Royal Starship\n",
      "20                       Scimitar\n",
      "21        J-type diplomatic barge\n",
      "22       AA-9 Coruscant freighter\n",
      "23               Jedi starfighter\n",
      "24            H-type Nubian yacht\n",
      "25          Republic Assault ship\n",
      "26                   Solar Sailer\n",
      "27       Trade Federation cruiser\n",
      "28       Theta-class T-2c shuttle\n",
      "29        Republic attack cruiser\n",
      "30               Naboo star skiff\n",
      "31               Jedi Interceptor\n",
      "32                        arc-170\n",
      "33            Banking clan frigte\n",
      "34       Belbullab-22 starfighter\n",
      "35                         V-wing\n",
      "Vaisseau de Star Wars :\n",
      "{'name': 'Executor', 'model': 'Executor-class star dreadnought', 'manufacturer': 'Kuat Drive Yards, Fondor Shipyards', 'cost_in_credits': '1143350000', 'length': '19000', 'max_atmosphering_speed': 'n/a', 'crew': '279,144', 'passengers': '38000', 'cargo_capacity': '250000000', 'consumables': '6 years', 'hyperdrive_rating': '2.0', 'MGLT': '40', 'starship_class': 'Star dreadnought', 'pilots': [], 'films': ['https://swapi.dev/api/films/2/', 'https://swapi.dev/api/films/3/'], 'created': '2014-12-15T12:31:42.547000Z', 'edited': '2014-12-20T21:23:49.893000Z', 'url': 'https://swapi.dev/api/starships/15/'}\n"
     ]
    }
   ],
   "source": [
    "\n",
    "url = 'https://swapi.dev/api/starships/'\n",
    "names = swapi.get_starships(url)\n",
    "starships_df = swapi.create_starships_df(names)\n",
    "print(starships_df)\n",
    "\n",
    "starship_info = swapi.get_starship('15')\n",
    "if starship_info:\n",
    "    df_starship = json_normalize(starship_info)\n",
    "    print(\"Vaisseau de Star Wars :\")\n",
    "    print(starship_info)\n"
   ]
  },
  {
   "cell_type": "code",
   "execution_count": null,
   "id": "dc1e56e6",
   "metadata": {},
   "outputs": [],
   "source": [
    "\n",
    "#affiche le dataframe de tout les noms des personnages\n",
    "url = 'https://swapi.dev/api/people/'\n",
    "names = get_characters(url)\n",
    "names_df = create_names_df(names)\n",
    "print(names_df)\n",
    "\n",
    "#affiche le dataframe du personnage dont j'ai choisis l'identifiant\n",
    "response_data = get_character(\"4\")\n",
    "if response_data:\n",
    "    df_character = json_normalize(response_data)\n",
    "    print(\"Personnage Star Wars :\")\n",
    "    print(df_character)\n",
    "else:\n",
    "    print(\"Erreur lors de la récupération des informations.\")\n"
   ]
  }
 ],
 "metadata": {
  "kernelspec": {
   "display_name": "Python 3 (ipykernel)",
   "language": "python",
   "name": "python3"
  },
  "language_info": {
   "codemirror_mode": {
    "name": "ipython",
    "version": 3
   },
   "file_extension": ".py",
   "mimetype": "text/x-python",
   "name": "python",
   "nbconvert_exporter": "python",
   "pygments_lexer": "ipython3",
   "version": "3.10.6"
  },
  "toc": {
   "base_numbering": 1,
   "nav_menu": {},
   "number_sections": true,
   "sideBar": true,
   "skip_h1_title": false,
   "title_cell": "Table of Contents",
   "title_sidebar": "Contents",
   "toc_cell": false,
   "toc_position": {},
   "toc_section_display": true,
   "toc_window_display": false
  }
 },
 "nbformat": 4,
 "nbformat_minor": 5
}
